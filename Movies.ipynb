{
 "cells": [
  {
   "cell_type": "code",
   "execution_count": 1,
   "id": "6a2f2939-23fd-4650-9c05-d5df4e247f7f",
   "metadata": {},
   "outputs": [],
   "source": [
    "import numpy as np\n",
    "import pandas as pd\n",
    "import difflib\n",
    "from sklearn.feature_extraction.text import TfidfVectorizer\n",
    "from sklearn.metrics.pairwise import cosine_similarity"
   ]
  },
  {
   "cell_type": "code",
   "execution_count": 2,
   "id": "c6f65c95-78dc-4693-a2b5-df99d8590a9a",
   "metadata": {},
   "outputs": [],
   "source": [
    "movies_data = pd.read_csv('movies.csv')"
   ]
  },
  {
   "cell_type": "code",
   "execution_count": 3,
   "id": "2983a1ba-f46a-485e-9545-d44f7daaea6b",
   "metadata": {},
   "outputs": [
    {
     "data": {
      "text/html": [
       "<div>\n",
       "<style scoped>\n",
       "    .dataframe tbody tr th:only-of-type {\n",
       "        vertical-align: middle;\n",
       "    }\n",
       "\n",
       "    .dataframe tbody tr th {\n",
       "        vertical-align: top;\n",
       "    }\n",
       "\n",
       "    .dataframe thead th {\n",
       "        text-align: right;\n",
       "    }\n",
       "</style>\n",
       "<table border=\"1\" class=\"dataframe\">\n",
       "  <thead>\n",
       "    <tr style=\"text-align: right;\">\n",
       "      <th></th>\n",
       "      <th>index</th>\n",
       "      <th>budget</th>\n",
       "      <th>genres</th>\n",
       "      <th>homepage</th>\n",
       "      <th>id</th>\n",
       "      <th>keywords</th>\n",
       "      <th>original_language</th>\n",
       "      <th>original_title</th>\n",
       "      <th>overview</th>\n",
       "      <th>popularity</th>\n",
       "      <th>...</th>\n",
       "      <th>runtime</th>\n",
       "      <th>spoken_languages</th>\n",
       "      <th>status</th>\n",
       "      <th>tagline</th>\n",
       "      <th>title</th>\n",
       "      <th>vote_average</th>\n",
       "      <th>vote_count</th>\n",
       "      <th>cast</th>\n",
       "      <th>crew</th>\n",
       "      <th>director</th>\n",
       "    </tr>\n",
       "  </thead>\n",
       "  <tbody>\n",
       "    <tr>\n",
       "      <th>0</th>\n",
       "      <td>0</td>\n",
       "      <td>237000000</td>\n",
       "      <td>Action Adventure Fantasy Science Fiction</td>\n",
       "      <td>http://www.avatarmovie.com/</td>\n",
       "      <td>19995</td>\n",
       "      <td>culture clash future space war space colony so...</td>\n",
       "      <td>en</td>\n",
       "      <td>Avatar</td>\n",
       "      <td>In the 22nd century, a paraplegic Marine is di...</td>\n",
       "      <td>150.437577</td>\n",
       "      <td>...</td>\n",
       "      <td>162.0</td>\n",
       "      <td>[{\"iso_639_1\": \"en\", \"name\": \"English\"}, {\"iso...</td>\n",
       "      <td>Released</td>\n",
       "      <td>Enter the World of Pandora.</td>\n",
       "      <td>Avatar</td>\n",
       "      <td>7.2</td>\n",
       "      <td>11800</td>\n",
       "      <td>Sam Worthington Zoe Saldana Sigourney Weaver S...</td>\n",
       "      <td>[{'name': 'Stephen E. Rivkin', 'gender': 0, 'd...</td>\n",
       "      <td>James Cameron</td>\n",
       "    </tr>\n",
       "    <tr>\n",
       "      <th>1</th>\n",
       "      <td>1</td>\n",
       "      <td>300000000</td>\n",
       "      <td>Adventure Fantasy Action</td>\n",
       "      <td>http://disney.go.com/disneypictures/pirates/</td>\n",
       "      <td>285</td>\n",
       "      <td>ocean drug abuse exotic island east india trad...</td>\n",
       "      <td>en</td>\n",
       "      <td>Pirates of the Caribbean: At World's End</td>\n",
       "      <td>Captain Barbossa, long believed to be dead, ha...</td>\n",
       "      <td>139.082615</td>\n",
       "      <td>...</td>\n",
       "      <td>169.0</td>\n",
       "      <td>[{\"iso_639_1\": \"en\", \"name\": \"English\"}]</td>\n",
       "      <td>Released</td>\n",
       "      <td>At the end of the world, the adventure begins.</td>\n",
       "      <td>Pirates of the Caribbean: At World's End</td>\n",
       "      <td>6.9</td>\n",
       "      <td>4500</td>\n",
       "      <td>Johnny Depp Orlando Bloom Keira Knightley Stel...</td>\n",
       "      <td>[{'name': 'Dariusz Wolski', 'gender': 2, 'depa...</td>\n",
       "      <td>Gore Verbinski</td>\n",
       "    </tr>\n",
       "    <tr>\n",
       "      <th>2</th>\n",
       "      <td>2</td>\n",
       "      <td>245000000</td>\n",
       "      <td>Action Adventure Crime</td>\n",
       "      <td>http://www.sonypictures.com/movies/spectre/</td>\n",
       "      <td>206647</td>\n",
       "      <td>spy based on novel secret agent sequel mi6</td>\n",
       "      <td>en</td>\n",
       "      <td>Spectre</td>\n",
       "      <td>A cryptic message from Bond’s past sends him o...</td>\n",
       "      <td>107.376788</td>\n",
       "      <td>...</td>\n",
       "      <td>148.0</td>\n",
       "      <td>[{\"iso_639_1\": \"fr\", \"name\": \"Fran\\u00e7ais\"},...</td>\n",
       "      <td>Released</td>\n",
       "      <td>A Plan No One Escapes</td>\n",
       "      <td>Spectre</td>\n",
       "      <td>6.3</td>\n",
       "      <td>4466</td>\n",
       "      <td>Daniel Craig Christoph Waltz L\\u00e9a Seydoux ...</td>\n",
       "      <td>[{'name': 'Thomas Newman', 'gender': 2, 'depar...</td>\n",
       "      <td>Sam Mendes</td>\n",
       "    </tr>\n",
       "    <tr>\n",
       "      <th>3</th>\n",
       "      <td>3</td>\n",
       "      <td>250000000</td>\n",
       "      <td>Action Crime Drama Thriller</td>\n",
       "      <td>http://www.thedarkknightrises.com/</td>\n",
       "      <td>49026</td>\n",
       "      <td>dc comics crime fighter terrorist secret ident...</td>\n",
       "      <td>en</td>\n",
       "      <td>The Dark Knight Rises</td>\n",
       "      <td>Following the death of District Attorney Harve...</td>\n",
       "      <td>112.312950</td>\n",
       "      <td>...</td>\n",
       "      <td>165.0</td>\n",
       "      <td>[{\"iso_639_1\": \"en\", \"name\": \"English\"}]</td>\n",
       "      <td>Released</td>\n",
       "      <td>The Legend Ends</td>\n",
       "      <td>The Dark Knight Rises</td>\n",
       "      <td>7.6</td>\n",
       "      <td>9106</td>\n",
       "      <td>Christian Bale Michael Caine Gary Oldman Anne ...</td>\n",
       "      <td>[{'name': 'Hans Zimmer', 'gender': 2, 'departm...</td>\n",
       "      <td>Christopher Nolan</td>\n",
       "    </tr>\n",
       "    <tr>\n",
       "      <th>4</th>\n",
       "      <td>4</td>\n",
       "      <td>260000000</td>\n",
       "      <td>Action Adventure Science Fiction</td>\n",
       "      <td>http://movies.disney.com/john-carter</td>\n",
       "      <td>49529</td>\n",
       "      <td>based on novel mars medallion space travel pri...</td>\n",
       "      <td>en</td>\n",
       "      <td>John Carter</td>\n",
       "      <td>John Carter is a war-weary, former military ca...</td>\n",
       "      <td>43.926995</td>\n",
       "      <td>...</td>\n",
       "      <td>132.0</td>\n",
       "      <td>[{\"iso_639_1\": \"en\", \"name\": \"English\"}]</td>\n",
       "      <td>Released</td>\n",
       "      <td>Lost in our world, found in another.</td>\n",
       "      <td>John Carter</td>\n",
       "      <td>6.1</td>\n",
       "      <td>2124</td>\n",
       "      <td>Taylor Kitsch Lynn Collins Samantha Morton Wil...</td>\n",
       "      <td>[{'name': 'Andrew Stanton', 'gender': 2, 'depa...</td>\n",
       "      <td>Andrew Stanton</td>\n",
       "    </tr>\n",
       "  </tbody>\n",
       "</table>\n",
       "<p>5 rows × 24 columns</p>\n",
       "</div>"
      ],
      "text/plain": [
       "   index     budget                                    genres  \\\n",
       "0      0  237000000  Action Adventure Fantasy Science Fiction   \n",
       "1      1  300000000                  Adventure Fantasy Action   \n",
       "2      2  245000000                    Action Adventure Crime   \n",
       "3      3  250000000               Action Crime Drama Thriller   \n",
       "4      4  260000000          Action Adventure Science Fiction   \n",
       "\n",
       "                                       homepage      id  \\\n",
       "0                   http://www.avatarmovie.com/   19995   \n",
       "1  http://disney.go.com/disneypictures/pirates/     285   \n",
       "2   http://www.sonypictures.com/movies/spectre/  206647   \n",
       "3            http://www.thedarkknightrises.com/   49026   \n",
       "4          http://movies.disney.com/john-carter   49529   \n",
       "\n",
       "                                            keywords original_language  \\\n",
       "0  culture clash future space war space colony so...                en   \n",
       "1  ocean drug abuse exotic island east india trad...                en   \n",
       "2         spy based on novel secret agent sequel mi6                en   \n",
       "3  dc comics crime fighter terrorist secret ident...                en   \n",
       "4  based on novel mars medallion space travel pri...                en   \n",
       "\n",
       "                             original_title  \\\n",
       "0                                    Avatar   \n",
       "1  Pirates of the Caribbean: At World's End   \n",
       "2                                   Spectre   \n",
       "3                     The Dark Knight Rises   \n",
       "4                               John Carter   \n",
       "\n",
       "                                            overview  popularity  ... runtime  \\\n",
       "0  In the 22nd century, a paraplegic Marine is di...  150.437577  ...   162.0   \n",
       "1  Captain Barbossa, long believed to be dead, ha...  139.082615  ...   169.0   \n",
       "2  A cryptic message from Bond’s past sends him o...  107.376788  ...   148.0   \n",
       "3  Following the death of District Attorney Harve...  112.312950  ...   165.0   \n",
       "4  John Carter is a war-weary, former military ca...   43.926995  ...   132.0   \n",
       "\n",
       "                                    spoken_languages    status  \\\n",
       "0  [{\"iso_639_1\": \"en\", \"name\": \"English\"}, {\"iso...  Released   \n",
       "1           [{\"iso_639_1\": \"en\", \"name\": \"English\"}]  Released   \n",
       "2  [{\"iso_639_1\": \"fr\", \"name\": \"Fran\\u00e7ais\"},...  Released   \n",
       "3           [{\"iso_639_1\": \"en\", \"name\": \"English\"}]  Released   \n",
       "4           [{\"iso_639_1\": \"en\", \"name\": \"English\"}]  Released   \n",
       "\n",
       "                                          tagline  \\\n",
       "0                     Enter the World of Pandora.   \n",
       "1  At the end of the world, the adventure begins.   \n",
       "2                           A Plan No One Escapes   \n",
       "3                                 The Legend Ends   \n",
       "4            Lost in our world, found in another.   \n",
       "\n",
       "                                      title vote_average vote_count  \\\n",
       "0                                    Avatar          7.2      11800   \n",
       "1  Pirates of the Caribbean: At World's End          6.9       4500   \n",
       "2                                   Spectre          6.3       4466   \n",
       "3                     The Dark Knight Rises          7.6       9106   \n",
       "4                               John Carter          6.1       2124   \n",
       "\n",
       "                                                cast  \\\n",
       "0  Sam Worthington Zoe Saldana Sigourney Weaver S...   \n",
       "1  Johnny Depp Orlando Bloom Keira Knightley Stel...   \n",
       "2  Daniel Craig Christoph Waltz L\\u00e9a Seydoux ...   \n",
       "3  Christian Bale Michael Caine Gary Oldman Anne ...   \n",
       "4  Taylor Kitsch Lynn Collins Samantha Morton Wil...   \n",
       "\n",
       "                                                crew           director  \n",
       "0  [{'name': 'Stephen E. Rivkin', 'gender': 0, 'd...      James Cameron  \n",
       "1  [{'name': 'Dariusz Wolski', 'gender': 2, 'depa...     Gore Verbinski  \n",
       "2  [{'name': 'Thomas Newman', 'gender': 2, 'depar...         Sam Mendes  \n",
       "3  [{'name': 'Hans Zimmer', 'gender': 2, 'departm...  Christopher Nolan  \n",
       "4  [{'name': 'Andrew Stanton', 'gender': 2, 'depa...     Andrew Stanton  \n",
       "\n",
       "[5 rows x 24 columns]"
      ]
     },
     "execution_count": 3,
     "metadata": {},
     "output_type": "execute_result"
    }
   ],
   "source": [
    "movies_data.head()"
   ]
  },
  {
   "cell_type": "code",
   "execution_count": 4,
   "id": "bcf0d05c-91df-4da6-b233-7098c5894003",
   "metadata": {},
   "outputs": [
    {
     "name": "stdout",
     "output_type": "stream",
     "text": [
      "<class 'pandas.core.frame.DataFrame'>\n",
      "RangeIndex: 4803 entries, 0 to 4802\n",
      "Data columns (total 24 columns):\n",
      " #   Column                Non-Null Count  Dtype  \n",
      "---  ------                --------------  -----  \n",
      " 0   index                 4803 non-null   int64  \n",
      " 1   budget                4803 non-null   int64  \n",
      " 2   genres                4775 non-null   object \n",
      " 3   homepage              1712 non-null   object \n",
      " 4   id                    4803 non-null   int64  \n",
      " 5   keywords              4391 non-null   object \n",
      " 6   original_language     4803 non-null   object \n",
      " 7   original_title        4803 non-null   object \n",
      " 8   overview              4800 non-null   object \n",
      " 9   popularity            4803 non-null   float64\n",
      " 10  production_companies  4803 non-null   object \n",
      " 11  production_countries  4803 non-null   object \n",
      " 12  release_date          4802 non-null   object \n",
      " 13  revenue               4803 non-null   int64  \n",
      " 14  runtime               4801 non-null   float64\n",
      " 15  spoken_languages      4803 non-null   object \n",
      " 16  status                4803 non-null   object \n",
      " 17  tagline               3959 non-null   object \n",
      " 18  title                 4803 non-null   object \n",
      " 19  vote_average          4803 non-null   float64\n",
      " 20  vote_count            4803 non-null   int64  \n",
      " 21  cast                  4760 non-null   object \n",
      " 22  crew                  4803 non-null   object \n",
      " 23  director              4773 non-null   object \n",
      "dtypes: float64(3), int64(5), object(16)\n",
      "memory usage: 900.7+ KB\n"
     ]
    }
   ],
   "source": [
    "movies_data.info()"
   ]
  },
  {
   "cell_type": "code",
   "execution_count": 5,
   "id": "34a4a5d2-a978-4deb-8a50-8a948880d4cc",
   "metadata": {},
   "outputs": [
    {
     "data": {
      "text/plain": [
       "index                      0\n",
       "budget                     0\n",
       "genres                    28\n",
       "homepage                3091\n",
       "id                         0\n",
       "keywords                 412\n",
       "original_language          0\n",
       "original_title             0\n",
       "overview                   3\n",
       "popularity                 0\n",
       "production_companies       0\n",
       "production_countries       0\n",
       "release_date               1\n",
       "revenue                    0\n",
       "runtime                    2\n",
       "spoken_languages           0\n",
       "status                     0\n",
       "tagline                  844\n",
       "title                      0\n",
       "vote_average               0\n",
       "vote_count                 0\n",
       "cast                      43\n",
       "crew                       0\n",
       "director                  30\n",
       "dtype: int64"
      ]
     },
     "execution_count": 5,
     "metadata": {},
     "output_type": "execute_result"
    }
   ],
   "source": [
    "movies_data.isnull().sum()"
   ]
  },
  {
   "cell_type": "code",
   "execution_count": 6,
   "id": "50aaffc8-2fd8-4ff8-b916-537027662e1a",
   "metadata": {},
   "outputs": [],
   "source": [
    "movies_data = movies_data.fillna('')"
   ]
  },
  {
   "cell_type": "code",
   "execution_count": 7,
   "id": "1d26e98e-ff96-4212-8f14-37b20cf53519",
   "metadata": {},
   "outputs": [
    {
     "data": {
      "text/plain": [
       "index                   0\n",
       "budget                  0\n",
       "genres                  0\n",
       "homepage                0\n",
       "id                      0\n",
       "keywords                0\n",
       "original_language       0\n",
       "original_title          0\n",
       "overview                0\n",
       "popularity              0\n",
       "production_companies    0\n",
       "production_countries    0\n",
       "release_date            0\n",
       "revenue                 0\n",
       "runtime                 0\n",
       "spoken_languages        0\n",
       "status                  0\n",
       "tagline                 0\n",
       "title                   0\n",
       "vote_average            0\n",
       "vote_count              0\n",
       "cast                    0\n",
       "crew                    0\n",
       "director                0\n",
       "dtype: int64"
      ]
     },
     "execution_count": 7,
     "metadata": {},
     "output_type": "execute_result"
    }
   ],
   "source": [
    "movies_data.isnull().sum()"
   ]
  },
  {
   "cell_type": "markdown",
   "id": "5bea3dea-6916-4028-a06c-078e8e68f1f0",
   "metadata": {},
   "source": [
    "# Selecting features that will be useful to find similar movies."
   ]
  },
  {
   "cell_type": "code",
   "execution_count": 38,
   "id": "509d7c24-b330-4a10-955f-a352278e818a",
   "metadata": {},
   "outputs": [],
   "source": [
    "imp_cols = movies_data['genres'] + movies_data['keywords'] + movies_data['tagline'] + movies_data['cast'] + movies_data['director']"
   ]
  },
  {
   "cell_type": "code",
   "execution_count": 39,
   "id": "e4d08f38-6a92-4c18-b8a8-3f8f550ad4da",
   "metadata": {},
   "outputs": [
    {
     "name": "stdout",
     "output_type": "stream",
     "text": [
      "0       Action Adventure Fantasy Science Fictioncultur...\n",
      "1       Adventure Fantasy Actionocean drug abuse exoti...\n",
      "2       Action Adventure Crimespy based on novel secre...\n",
      "3       Action Crime Drama Thrillerdc comics crime fig...\n",
      "4       Action Adventure Science Fictionbased on novel...\n",
      "                              ...                        \n",
      "4798    Action Crime Thrillerunited states\\u2013mexico...\n",
      "4799    Comedy RomanceA newlywed couple's honeymoon is...\n",
      "4800    Comedy Drama Romance TV Moviedate love at firs...\n",
      "4801    A New Yorker in ShanghaiDaniel Henney Eliza Co...\n",
      "4802    Documentaryobsession camcorder crush dream gir...\n",
      "Length: 4803, dtype: object\n"
     ]
    }
   ],
   "source": [
    "print(imp_cols)"
   ]
  },
  {
   "cell_type": "markdown",
   "id": "68e80de6-5823-4f5a-bd62-045610f371ed",
   "metadata": {},
   "source": [
    "# Making a list of all the titles."
   ]
  },
  {
   "cell_type": "code",
   "execution_count": 40,
   "id": "8be4e0f4-4318-41cd-9c00-497a759458ab",
   "metadata": {},
   "outputs": [],
   "source": [
    "titles = movies_data['title'].tolist()\n",
    "titles = [m.lower() for m in titles]"
   ]
  },
  {
   "cell_type": "markdown",
   "id": "62bd07a6-2eef-4322-b4a8-c837dad723af",
   "metadata": {},
   "source": [
    "# Converting text data into numerical vectors of their TF-IDF score."
   ]
  },
  {
   "cell_type": "code",
   "execution_count": 41,
   "id": "13c3901b-ac51-4c74-843a-2e47002f283b",
   "metadata": {},
   "outputs": [],
   "source": [
    "vectorizer = TfidfVectorizer()"
   ]
  },
  {
   "cell_type": "code",
   "execution_count": 42,
   "id": "b04403c6-ed1c-49eb-bd03-474366fa4529",
   "metadata": {},
   "outputs": [],
   "source": [
    "col_vectors = vectorizer.fit_transform(imp_cols)"
   ]
  },
  {
   "cell_type": "code",
   "execution_count": 43,
   "id": "46e3b677-670c-4726-a61d-44c2e5bb0cfc",
   "metadata": {},
   "outputs": [
    {
     "name": "stdout",
     "output_type": "stream",
     "text": [
      "<Compressed Sparse Row sparse matrix of dtype 'float64'\n",
      "\twith 111820 stored elements and shape (4803, 27580)>\n",
      "  Coords\tValues\n",
      "  (0, 245)\t0.07858581760804864\n",
      "  (0, 444)\t0.09109355212252296\n",
      "  (0, 8936)\t0.11806131645084655\n",
      "  (0, 21836)\t0.09966592997173947\n",
      "  (0, 9304)\t0.27385789694599244\n",
      "  (0, 4456)\t0.2179967521551067\n",
      "  (0, 10193)\t0.1653243242081299\n",
      "  (0, 22916)\t0.3366875640692919\n",
      "  (0, 26334)\t0.130597230719163\n",
      "  (0, 4676)\t0.24529097704249617\n",
      "  (0, 22778)\t0.27385789694599244\n",
      "  (0, 24197)\t0.07518543993419267\n",
      "  (0, 27161)\t0.12619886579371511\n",
      "  (0, 18164)\t0.08690831799482268\n",
      "  (0, 18558)\t0.26121683351048536\n",
      "  (0, 21521)\t0.15623566659433683\n",
      "  (0, 27182)\t0.23480088356130557\n",
      "  (0, 27540)\t0.19771357974524179\n",
      "  (0, 21487)\t0.21550128478931552\n",
      "  (0, 22464)\t0.2020708956871175\n",
      "  (0, 26547)\t0.19638671147741735\n",
      "  (0, 23267)\t0.16128139780622522\n",
      "  (0, 14550)\t0.22368093636480682\n",
      "  (0, 16614)\t0.1569607387745327\n",
      "  (0, 20729)\t0.27385789694599244\n",
      "  :\t:\n",
      "  (4801, 18790)\t0.22450140828104795\n",
      "  (4801, 11776)\t0.3005604008026175\n",
      "  (4801, 758)\t0.19369913462690624\n",
      "  (4801, 8121)\t0.2611505149930138\n",
      "  (4801, 27513)\t0.3005604008026175\n",
      "  (4801, 27361)\t0.31510541707008866\n",
      "  (4801, 22170)\t0.31510541707008866\n",
      "  (4801, 5449)\t0.31510541707008866\n",
      "  (4801, 21297)\t0.31510541707008866\n",
      "  (4801, 22322)\t0.31510541707008866\n",
      "  (4801, 12520)\t0.31510541707008866\n",
      "  (4802, 7626)\t0.17686850692938538\n",
      "  (4802, 3128)\t0.17288424030654004\n",
      "  (4802, 8313)\t0.1713172199751922\n",
      "  (4802, 5354)\t0.2196244946235084\n",
      "  (4802, 2027)\t0.19514642661077047\n",
      "  (4802, 20664)\t0.1718311116708895\n",
      "  (4802, 11042)\t0.2245754361399493\n",
      "  (4802, 5847)\t0.2598601666162226\n",
      "  (4802, 9174)\t0.23381507827213685\n",
      "  (4802, 3569)\t0.2526933433912742\n",
      "  (4802, 6978)\t0.28212235292045307\n",
      "  (4802, 10640)\t0.28212235292045307\n",
      "  (4802, 11874)\t0.5642447058409061\n",
      "  (4802, 7770)\t0.28212235292045307\n"
     ]
    }
   ],
   "source": [
    "print(col_vectors)"
   ]
  },
  {
   "cell_type": "markdown",
   "id": "6ca47ee0-0ec5-4846-a9dc-40947de0015c",
   "metadata": {},
   "source": [
    "# Calculating cosine angle between vector values to determine similarity."
   ]
  },
  {
   "cell_type": "code",
   "execution_count": 44,
   "id": "ae40dc12-fe32-46b6-9ed1-a2ea4b8e0906",
   "metadata": {},
   "outputs": [],
   "source": [
    "similarity = cosine_similarity(col_vectors)"
   ]
  },
  {
   "cell_type": "code",
   "execution_count": 45,
   "id": "33546ab5-8c90-49a9-8707-fe213d595df2",
   "metadata": {},
   "outputs": [
    {
     "name": "stdout",
     "output_type": "stream",
     "text": [
      "[[1.         0.06865296 0.01492221 ... 0.         0.         0.        ]\n",
      " [0.06865296 1.         0.02799128 ... 0.01243107 0.         0.        ]\n",
      " [0.01492221 0.02799128 1.         ... 0.         0.         0.        ]\n",
      " ...\n",
      " [0.         0.01243107 0.         ... 1.         0.         0.        ]\n",
      " [0.         0.         0.         ... 0.         1.         0.        ]\n",
      " [0.         0.         0.         ... 0.         0.         1.        ]]\n"
     ]
    }
   ],
   "source": [
    "print(similarity)"
   ]
  },
  {
   "cell_type": "code",
   "execution_count": 46,
   "id": "1ece90ba-0fcd-45d3-9499-ef312a853023",
   "metadata": {},
   "outputs": [
    {
     "name": "stdin",
     "output_type": "stream",
     "text": [
      "Enter movie name:  avengers\n"
     ]
    },
    {
     "name": "stdout",
     "output_type": "stream",
     "text": [
      "['the avengers', 'savages', 'swingers']\n"
     ]
    }
   ],
   "source": [
    "movie_name = input('Enter movie name: ').lower()\n",
    "matches = difflib.get_close_matches(movie_name, titles)\n",
    "print(matches)"
   ]
  },
  {
   "cell_type": "code",
   "execution_count": 47,
   "id": "106fda71-9a6d-441e-ba7a-ae5e0c15c25b",
   "metadata": {},
   "outputs": [
    {
     "name": "stdout",
     "output_type": "stream",
     "text": [
      "the avengers\n"
     ]
    }
   ],
   "source": [
    "first_match = matches[0]\n",
    "print(first_match)"
   ]
  },
  {
   "cell_type": "code",
   "execution_count": 48,
   "id": "9981cde5-c907-4c03-a2c2-d8de1acb8180",
   "metadata": {},
   "outputs": [
    {
     "name": "stdout",
     "output_type": "stream",
     "text": [
      "16\n"
     ]
    }
   ],
   "source": [
    "movie_index = movies_data[movies_data.title.str.lower() == first_match]['index'].values[0]\n",
    "print(movie_index)"
   ]
  },
  {
   "cell_type": "markdown",
   "id": "53959acf-7031-4771-a0e4-84e802b172a9",
   "metadata": {},
   "source": [
    "# Getting a sorted similarity score list based on cosine angle."
   ]
  },
  {
   "cell_type": "code",
   "execution_count": 49,
   "id": "c16db8f9-874c-4fe5-b0c4-cdbb993867c4",
   "metadata": {},
   "outputs": [],
   "source": [
    "similarity_score = list(enumerate(similarity[movie_index]))"
   ]
  },
  {
   "cell_type": "code",
   "execution_count": 50,
   "id": "3bf173fc-f840-4a15-b0a6-11a7e84cde53",
   "metadata": {},
   "outputs": [],
   "source": [
    "similarity_score = sorted(similarity_score, key = lambda x: x[1], reverse = True)"
   ]
  },
  {
   "cell_type": "code",
   "execution_count": 51,
   "id": "c1001163-f520-45e8-92a8-397b1d83e3e8",
   "metadata": {},
   "outputs": [
    {
     "data": {
      "text/plain": [
       "[(16, np.float64(1.0000000000000004)),\n",
       " (7, np.float64(0.6424444374106305)),\n",
       " (85, np.float64(0.31403222285225113)),\n",
       " (79, np.float64(0.30792623764880095)),\n",
       " (174, np.float64(0.2901376837412583)),\n",
       " (26, np.float64(0.27072517284276515)),\n",
       " (511, np.float64(0.2457568003047)),\n",
       " (129, np.float64(0.23357780859998825)),\n",
       " (64, np.float64(0.22923948760243926)),\n",
       " (203, np.float64(0.22754461810246723))]"
      ]
     },
     "execution_count": 51,
     "metadata": {},
     "output_type": "execute_result"
    }
   ],
   "source": [
    "similarity_score[:10]"
   ]
  },
  {
   "cell_type": "code",
   "execution_count": 52,
   "id": "1bd7693a-d5b7-4b44-ba71-b626e2241985",
   "metadata": {},
   "outputs": [
    {
     "name": "stdout",
     "output_type": "stream",
     "text": [
      "Similar movies: \n",
      "1  :  The Avengers\n",
      "2  :  Avengers: Age of Ultron\n",
      "3  :  Captain America: The Winter Soldier\n",
      "4  :  Iron Man 2\n",
      "5  :  The Incredible Hulk\n",
      "6  :  Captain America: Civil War\n",
      "7  :  X-Men\n",
      "8  :  Thor\n",
      "9  :  X-Men: Apocalypse\n",
      "10  :  X2\n"
     ]
    }
   ],
   "source": [
    "print('Similar movies: ')\n",
    "i = 1\n",
    "for m in similarity_score:\n",
    "    ind = m[0]\n",
    "    title = movies_data[movies_data.index == ind]['title'].values[0]\n",
    "    if i <= 10:\n",
    "        print(i, \" : \", title)\n",
    "        i += 1"
   ]
  }
 ],
 "metadata": {
  "kernelspec": {
   "display_name": "Python 3 (ipykernel)",
   "language": "python",
   "name": "python3"
  },
  "language_info": {
   "codemirror_mode": {
    "name": "ipython",
    "version": 3
   },
   "file_extension": ".py",
   "mimetype": "text/x-python",
   "name": "python",
   "nbconvert_exporter": "python",
   "pygments_lexer": "ipython3",
   "version": "3.13.5"
  }
 },
 "nbformat": 4,
 "nbformat_minor": 5
}
